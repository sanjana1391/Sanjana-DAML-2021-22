{
  "nbformat": 4,
  "nbformat_minor": 0,
  "metadata": {
    "colab": {
      "name": "numpy.ipynb",
      "provenance": [],
      "authorship_tag": "ABX9TyM6u5nFsASJdzMcrwTOqJkA",
      "include_colab_link": true
    },
    "kernelspec": {
      "name": "python3",
      "display_name": "Python 3"
    },
    "language_info": {
      "name": "python"
    }
  },
  "cells": [
    {
      "cell_type": "markdown",
      "metadata": {
        "id": "view-in-github",
        "colab_type": "text"
      },
      "source": [
        "<a href=\"https://colab.research.google.com/github/sanjana1391/Sanjana-DAML-2021-22/blob/main/numpy.ipynb\" target=\"_parent\"><img src=\"https://colab.research.google.com/assets/colab-badge.svg\" alt=\"Open In Colab\"/></a>"
      ]
    },
    {
      "cell_type": "markdown",
      "metadata": {
        "id": "fPiQbWKWSWow"
      },
      "source": [
        "##Numpy"
      ]
    },
    {
      "cell_type": "code",
      "metadata": {
        "id": "8XjCdc7pA4sO"
      },
      "source": [
        "import numpy as np"
      ],
      "execution_count": null,
      "outputs": []
    },
    {
      "cell_type": "code",
      "metadata": {
        "id": "hKPpGpPAA98M"
      },
      "source": [
        "myarray=np.array(\"damon\")"
      ],
      "execution_count": null,
      "outputs": []
    },
    {
      "cell_type": "code",
      "metadata": {
        "colab": {
          "base_uri": "https://localhost:8080/"
        },
        "id": "OC9Qv5i7BJQn",
        "outputId": "93cbf36a-a922-4176-8895-45aefa02a3c5"
      },
      "source": [
        "myarray"
      ],
      "execution_count": null,
      "outputs": [
        {
          "output_type": "execute_result",
          "data": {
            "text/plain": [
              "array('damon', dtype='<U5')"
            ]
          },
          "metadata": {},
          "execution_count": 5
        }
      ]
    },
    {
      "cell_type": "code",
      "metadata": {
        "colab": {
          "base_uri": "https://localhost:8080/",
          "height": 35
        },
        "id": "_yrlugDcBTvD",
        "outputId": "609086f9-5589-4738-e90c-ed694a90dbcf"
      },
      "source": [
        "np.__version__"
      ],
      "execution_count": null,
      "outputs": [
        {
          "output_type": "execute_result",
          "data": {
            "application/vnd.google.colaboratory.intrinsic+json": {
              "type": "string"
            },
            "text/plain": [
              "'1.19.5'"
            ]
          },
          "metadata": {},
          "execution_count": 6
        }
      ]
    },
    {
      "cell_type": "code",
      "metadata": {
        "id": "Z1wFxBLoBXmO"
      },
      "source": [
        "x=np.array(300)"
      ],
      "execution_count": null,
      "outputs": []
    },
    {
      "cell_type": "code",
      "metadata": {
        "colab": {
          "base_uri": "https://localhost:8080/"
        },
        "id": "VqnP6NR_BbXb",
        "outputId": "739a4f4a-1fa9-4422-e858-8f393715dc89"
      },
      "source": [
        "type(x)"
      ],
      "execution_count": null,
      "outputs": [
        {
          "output_type": "execute_result",
          "data": {
            "text/plain": [
              "numpy.ndarray"
            ]
          },
          "metadata": {},
          "execution_count": 8
        }
      ]
    },
    {
      "cell_type": "code",
      "metadata": {
        "colab": {
          "base_uri": "https://localhost:8080/"
        },
        "id": "4OKRJfJPBe00",
        "outputId": "678e036f-5fc4-4c43-a6d8-6c382975abb7"
      },
      "source": [
        "x"
      ],
      "execution_count": null,
      "outputs": [
        {
          "output_type": "execute_result",
          "data": {
            "text/plain": [
              "array(300)"
            ]
          },
          "metadata": {},
          "execution_count": 9
        }
      ]
    },
    {
      "cell_type": "code",
      "metadata": {
        "colab": {
          "base_uri": "https://localhost:8080/"
        },
        "id": "TLkroZFVBgSq",
        "outputId": "f8ce19a6-63f0-4d58-aae7-068d2394c6a8"
      },
      "source": [
        "oned=np.array([12,334,56,78,90])\n",
        "oned"
      ],
      "execution_count": null,
      "outputs": [
        {
          "output_type": "execute_result",
          "data": {
            "text/plain": [
              "array([ 12, 334,  56,  78,  90])"
            ]
          },
          "metadata": {},
          "execution_count": 10
        }
      ]
    },
    {
      "cell_type": "code",
      "metadata": {
        "colab": {
          "base_uri": "https://localhost:8080/"
        },
        "id": "SUf6uMRQBsGY",
        "outputId": "f4e835c8-e4bb-4f98-f814-6ee529256c69"
      },
      "source": [
        "type(oned)"
      ],
      "execution_count": null,
      "outputs": [
        {
          "output_type": "execute_result",
          "data": {
            "text/plain": [
              "numpy.ndarray"
            ]
          },
          "metadata": {},
          "execution_count": 11
        }
      ]
    },
    {
      "cell_type": "code",
      "metadata": {
        "colab": {
          "base_uri": "https://localhost:8080/"
        },
        "id": "q2A4oHacBvkB",
        "outputId": "9716fb9a-c435-4185-d1fd-ba9653e390ba"
      },
      "source": [
        "oned.ndim"
      ],
      "execution_count": null,
      "outputs": [
        {
          "output_type": "execute_result",
          "data": {
            "text/plain": [
              "1"
            ]
          },
          "metadata": {},
          "execution_count": 12
        }
      ]
    },
    {
      "cell_type": "code",
      "metadata": {
        "colab": {
          "base_uri": "https://localhost:8080/"
        },
        "id": "V6v_ci2SBzga",
        "outputId": "1887caec-8db8-48c7-977f-cac12fa8dc2f"
      },
      "source": [
        "oned.size"
      ],
      "execution_count": null,
      "outputs": [
        {
          "output_type": "execute_result",
          "data": {
            "text/plain": [
              "5"
            ]
          },
          "metadata": {},
          "execution_count": 13
        }
      ]
    },
    {
      "cell_type": "code",
      "metadata": {
        "colab": {
          "base_uri": "https://localhost:8080/"
        },
        "id": "kJOqpKvLB5Ac",
        "outputId": "e279d932-bbbc-437c-f518-d20913bfb283"
      },
      "source": [
        "oned.shape"
      ],
      "execution_count": null,
      "outputs": [
        {
          "output_type": "execute_result",
          "data": {
            "text/plain": [
              "(5,)"
            ]
          },
          "metadata": {},
          "execution_count": 14
        }
      ]
    },
    {
      "cell_type": "markdown",
      "metadata": {
        "id": "LttB7a1_B-Dr"
      },
      "source": [
        "2 dimensional array"
      ]
    },
    {
      "cell_type": "code",
      "metadata": {
        "colab": {
          "base_uri": "https://localhost:8080/"
        },
        "id": "o23nW9iuB657",
        "outputId": "f2b83a7f-1f5d-4648-97f8-f0465786d7aa"
      },
      "source": [
        "twod=np.array([[1,2,3],[23,45,56],[1,4,5]])\n",
        "twod"
      ],
      "execution_count": null,
      "outputs": [
        {
          "output_type": "execute_result",
          "data": {
            "text/plain": [
              "array([[ 1,  2,  3],\n",
              "       [23, 45, 56],\n",
              "       [ 1,  4,  5]])"
            ]
          },
          "metadata": {},
          "execution_count": 17
        }
      ]
    },
    {
      "cell_type": "code",
      "metadata": {
        "colab": {
          "base_uri": "https://localhost:8080/"
        },
        "id": "Bg6JryrbDPjX",
        "outputId": "b075f500-7962-47ac-8735-cb25f6ec41a1"
      },
      "source": [
        "twod.ndim"
      ],
      "execution_count": null,
      "outputs": [
        {
          "output_type": "execute_result",
          "data": {
            "text/plain": [
              "2"
            ]
          },
          "metadata": {},
          "execution_count": 18
        }
      ]
    },
    {
      "cell_type": "code",
      "metadata": {
        "colab": {
          "base_uri": "https://localhost:8080/"
        },
        "id": "e7i3MguDDS5Z",
        "outputId": "7af7e560-defb-40bb-9ad2-197e6adf1851"
      },
      "source": [
        "twod.size"
      ],
      "execution_count": null,
      "outputs": [
        {
          "output_type": "execute_result",
          "data": {
            "text/plain": [
              "9"
            ]
          },
          "metadata": {},
          "execution_count": 19
        }
      ]
    },
    {
      "cell_type": "code",
      "metadata": {
        "colab": {
          "base_uri": "https://localhost:8080/"
        },
        "id": "IU839m-SDViF",
        "outputId": "5e361ab6-c3ee-45d4-bbd3-8c93fc3be7cc"
      },
      "source": [
        "twod.shape"
      ],
      "execution_count": null,
      "outputs": [
        {
          "output_type": "execute_result",
          "data": {
            "text/plain": [
              "(3, 3)"
            ]
          },
          "metadata": {},
          "execution_count": 20
        }
      ]
    },
    {
      "cell_type": "markdown",
      "metadata": {
        "id": "mZcPV682Ccp0"
      },
      "source": [
        "crreating nd arrays with zeros"
      ]
    },
    {
      "cell_type": "code",
      "metadata": {
        "colab": {
          "base_uri": "https://localhost:8080/"
        },
        "id": "aqytpguPCMzY",
        "outputId": "3b1766db-f356-4a7f-c8b6-6cd857b86a84"
      },
      "source": [
        "zero=np.zeros(10)\n",
        "zero"
      ],
      "execution_count": null,
      "outputs": [
        {
          "output_type": "execute_result",
          "data": {
            "text/plain": [
              "array([0., 0., 0., 0., 0., 0., 0., 0., 0., 0.])"
            ]
          },
          "metadata": {},
          "execution_count": 22
        }
      ]
    },
    {
      "cell_type": "code",
      "metadata": {
        "id": "rqvvWzD8DiNh"
      },
      "source": [
        "x=np.zeros(10, dtype=np.int8)"
      ],
      "execution_count": null,
      "outputs": []
    },
    {
      "cell_type": "code",
      "metadata": {
        "colab": {
          "base_uri": "https://localhost:8080/"
        },
        "id": "X5KFo_j1DydK",
        "outputId": "8676d09b-9a52-40ae-bedb-46b43ff40838"
      },
      "source": [
        "#create an array of 2*3 having zero\n",
        "\n",
        "x=np.zeros((2,3))\n",
        "x"
      ],
      "execution_count": null,
      "outputs": [
        {
          "output_type": "execute_result",
          "data": {
            "text/plain": [
              "array([[0., 0., 0.],\n",
              "       [0., 0., 0.]])"
            ]
          },
          "metadata": {},
          "execution_count": 27
        }
      ]
    },
    {
      "cell_type": "code",
      "metadata": {
        "colab": {
          "base_uri": "https://localhost:8080/"
        },
        "id": "fIO37SlJEDTO",
        "outputId": "e6351a3e-af0c-43ed-dda6-d21c325e34a2"
      },
      "source": [
        "t=np.ones((2,3,3))\n",
        "t"
      ],
      "execution_count": null,
      "outputs": [
        {
          "output_type": "execute_result",
          "data": {
            "text/plain": [
              "array([[[1., 1., 1.],\n",
              "        [1., 1., 1.],\n",
              "        [1., 1., 1.]],\n",
              "\n",
              "       [[1., 1., 1.],\n",
              "        [1., 1., 1.],\n",
              "        [1., 1., 1.]]])"
            ]
          },
          "metadata": {},
          "execution_count": 29
        }
      ]
    },
    {
      "cell_type": "markdown",
      "metadata": {
        "id": "IiLquoY5FBLT"
      },
      "source": [
        "##attributes\n",
        "\n",
        "1.ndim\n",
        "2.size\n",
        "3.shape\n"
      ]
    },
    {
      "cell_type": "code",
      "metadata": {
        "colab": {
          "base_uri": "https://localhost:8080/"
        },
        "id": "QrmVrCPaEb5F",
        "outputId": "a549a3b6-e617-4cb0-c2b3-2fdc9ebcfb45"
      },
      "source": [
        "import sys\n",
        "l=[1,2,3,4,5,6,7,8,9]\n",
        "print(sys.getsizeof(1)*len(l))\n",
        "arr=np.array(1)\n",
        "print(arr.size*arr.itemsize)"
      ],
      "execution_count": null,
      "outputs": [
        {
          "output_type": "stream",
          "name": "stdout",
          "text": [
            "252\n",
            "8\n"
          ]
        }
      ]
    },
    {
      "cell_type": "markdown",
      "metadata": {
        "id": "TOXnV7pFHVzv"
      },
      "source": [
        "Random"
      ]
    },
    {
      "cell_type": "code",
      "metadata": {
        "colab": {
          "base_uri": "https://localhost:8080/"
        },
        "id": "L2iZWarUGMeT",
        "outputId": "36b8acaf-8cbb-4770-ffb6-34f6206651df"
      },
      "source": [
        "np.random.rand()"
      ],
      "execution_count": null,
      "outputs": [
        {
          "output_type": "execute_result",
          "data": {
            "text/plain": [
              "0.8530103203887738"
            ]
          },
          "metadata": {},
          "execution_count": 31
        }
      ]
    },
    {
      "cell_type": "code",
      "metadata": {
        "colab": {
          "base_uri": "https://localhost:8080/"
        },
        "id": "r1czOTcXHT7k",
        "outputId": "07357ddc-759e-431b-ec45-3d59fdf55462"
      },
      "source": [
        "x=np.random.randint(12)\n",
        "x"
      ],
      "execution_count": null,
      "outputs": [
        {
          "output_type": "execute_result",
          "data": {
            "text/plain": [
              "0"
            ]
          },
          "metadata": {},
          "execution_count": 35
        }
      ]
    },
    {
      "cell_type": "code",
      "metadata": {
        "colab": {
          "base_uri": "https://localhost:8080/"
        },
        "id": "Y6V5LUCUHhVt",
        "outputId": "10798f51-6eb5-4fb8-b356-cdeb9effa2e1"
      },
      "source": [
        "x=np.random.randint(3,11, size=10)\n",
        "x"
      ],
      "execution_count": null,
      "outputs": [
        {
          "output_type": "execute_result",
          "data": {
            "text/plain": [
              "array([7, 6, 6, 7, 3, 9, 5, 4, 4, 4])"
            ]
          },
          "metadata": {},
          "execution_count": 41
        }
      ]
    },
    {
      "cell_type": "code",
      "metadata": {
        "colab": {
          "base_uri": "https://localhost:8080/"
        },
        "id": "9IjkP-D6H79o",
        "outputId": "83a4ff8b-5a58-4d7c-928f-9624fb99e887"
      },
      "source": [
        "x=np.random.rand(3,4)\n",
        "x"
      ],
      "execution_count": null,
      "outputs": [
        {
          "output_type": "execute_result",
          "data": {
            "text/plain": [
              "array([[0.68680531, 0.50027514, 0.48676047, 0.70657243],\n",
              "       [0.05918898, 0.99392527, 0.4051413 , 0.82482689],\n",
              "       [0.27725428, 0.10646308, 0.92043682, 0.3667004 ]])"
            ]
          },
          "metadata": {},
          "execution_count": 39
        }
      ]
    },
    {
      "cell_type": "code",
      "metadata": {
        "colab": {
          "base_uri": "https://localhost:8080/"
        },
        "id": "81uSQGEfIVfz",
        "outputId": "cfca45c5-acb9-4586-d89d-ddd040f25ee7"
      },
      "source": [
        "x=np.random.randint(5,10, size=(3,3))\n",
        "x"
      ],
      "execution_count": null,
      "outputs": [
        {
          "output_type": "execute_result",
          "data": {
            "text/plain": [
              "array([[8, 8, 6],\n",
              "       [5, 6, 8],\n",
              "       [5, 7, 5]])"
            ]
          },
          "metadata": {},
          "execution_count": 42
        }
      ]
    },
    {
      "cell_type": "markdown",
      "metadata": {
        "id": "Mtu-mx1wJUfd"
      },
      "source": [
        "# choice() method"
      ]
    },
    {
      "cell_type": "code",
      "metadata": {
        "colab": {
          "base_uri": "https://localhost:8080/"
        },
        "id": "aqDNAFiVIz8n",
        "outputId": "f238fed5-0d34-4a09-da1f-79be05ca5300"
      },
      "source": [
        "l=[1,2,3,4,5,6,7,8,9]\n",
        "x=np.random.choice(l)\n",
        "x"
      ],
      "execution_count": null,
      "outputs": [
        {
          "output_type": "execute_result",
          "data": {
            "text/plain": [
              "5"
            ]
          },
          "metadata": {},
          "execution_count": 46
        }
      ]
    },
    {
      "cell_type": "code",
      "metadata": {
        "colab": {
          "base_uri": "https://localhost:8080/",
          "height": 35
        },
        "id": "lS2CpKhLJjh8",
        "outputId": "3abe3367-703e-4079-ee6e-623a744b489c"
      },
      "source": [
        "l=[\"vampires\",\"werewolves\",\"angels\",\"demons\",\"griffins\"]\n",
        "x=np.random.choice(l)\n",
        "x"
      ],
      "execution_count": null,
      "outputs": [
        {
          "output_type": "execute_result",
          "data": {
            "application/vnd.google.colaboratory.intrinsic+json": {
              "type": "string"
            },
            "text/plain": [
              "'angels'"
            ]
          },
          "metadata": {},
          "execution_count": 47
        }
      ]
    },
    {
      "cell_type": "code",
      "metadata": {
        "colab": {
          "base_uri": "https://localhost:8080/"
        },
        "id": "0VmYmrRMJ6ep",
        "outputId": "f3328a73-fd65-4372-e023-9e3c79ba1e42"
      },
      "source": [
        "x=np.random.choice(l,size=(4,3))\n",
        "x"
      ],
      "execution_count": null,
      "outputs": [
        {
          "output_type": "execute_result",
          "data": {
            "text/plain": [
              "array([['werewolves', 'vampires', 'griffins'],\n",
              "       ['vampires', 'werewolves', 'angels'],\n",
              "       ['vampires', 'demons', 'griffins'],\n",
              "       ['angels', 'vampires', 'griffins']], dtype='<U10')"
            ]
          },
          "metadata": {},
          "execution_count": 50
        }
      ]
    },
    {
      "cell_type": "markdown",
      "metadata": {
        "id": "deWLdnSUKmoi"
      },
      "source": [
        "acessing elements from array"
      ]
    },
    {
      "cell_type": "code",
      "metadata": {
        "colab": {
          "base_uri": "https://localhost:8080/"
        },
        "id": "_MieapkuKExB",
        "outputId": "ac83c4a5-ebcd-441d-d70f-d80c5aa52952"
      },
      "source": [
        "x=np.array([12,2,3,45,6,7,8])\n",
        "x[1]"
      ],
      "execution_count": null,
      "outputs": [
        {
          "output_type": "execute_result",
          "data": {
            "text/plain": [
              "2"
            ]
          },
          "metadata": {},
          "execution_count": 53
        }
      ]
    },
    {
      "cell_type": "code",
      "metadata": {
        "colab": {
          "base_uri": "https://localhost:8080/"
        },
        "id": "cc8bQiY3K1DJ",
        "outputId": "883a7480-1f83-4304-ec79-d494d5693c27"
      },
      "source": [
        "x=np.array([[12,2,3],[2,6,8],[4,6,7]])\n",
        "x[1,2]"
      ],
      "execution_count": null,
      "outputs": [
        {
          "output_type": "execute_result",
          "data": {
            "text/plain": [
              "8"
            ]
          },
          "metadata": {},
          "execution_count": 57
        }
      ]
    },
    {
      "cell_type": "code",
      "metadata": {
        "colab": {
          "base_uri": "https://localhost:8080/"
        },
        "id": "jNJDdaIOLHbz",
        "outputId": "dcbfe42e-2d9e-42cb-aefd-e0411930daf8"
      },
      "source": [
        "x=np.array([12,2,3,45,6,7,8])\n",
        "x[1:3]"
      ],
      "execution_count": null,
      "outputs": [
        {
          "output_type": "execute_result",
          "data": {
            "text/plain": [
              "array([2, 3])"
            ]
          },
          "metadata": {},
          "execution_count": 55
        }
      ]
    },
    {
      "cell_type": "code",
      "metadata": {
        "colab": {
          "base_uri": "https://localhost:8080/"
        },
        "id": "J7awwoGeLV5L",
        "outputId": "10099934-071b-4120-c5ab-56e84eb0c394"
      },
      "source": [
        "#slicing in row major order\n",
        "\n",
        "x=np.array([[12,2,3],[2,6,8],[4,6,7],[4,3,7]])\n",
        "x[1:3]"
      ],
      "execution_count": null,
      "outputs": [
        {
          "output_type": "execute_result",
          "data": {
            "text/plain": [
              "array([[2, 6, 8],\n",
              "       [4, 6, 7]])"
            ]
          },
          "metadata": {},
          "execution_count": 60
        }
      ]
    },
    {
      "cell_type": "code",
      "metadata": {
        "colab": {
          "base_uri": "https://localhost:8080/"
        },
        "id": "XQFFSqyALofQ",
        "outputId": "04071eed-310a-4e5e-b69f-044945a7fd06"
      },
      "source": [
        "x[-1:]"
      ],
      "execution_count": null,
      "outputs": [
        {
          "output_type": "execute_result",
          "data": {
            "text/plain": [
              "array([[4, 3, 7]])"
            ]
          },
          "metadata": {},
          "execution_count": 61
        }
      ]
    },
    {
      "cell_type": "code",
      "metadata": {
        "colab": {
          "base_uri": "https://localhost:8080/"
        },
        "id": "Ue5a1cKbL9gi",
        "outputId": "04ee2909-d9ad-454c-bee7-3cfed7d498d4"
      },
      "source": [
        "x[-1:2]"
      ],
      "execution_count": null,
      "outputs": [
        {
          "output_type": "execute_result",
          "data": {
            "text/plain": [
              "array([], shape=(0, 3), dtype=int64)"
            ]
          },
          "metadata": {},
          "execution_count": 62
        }
      ]
    },
    {
      "cell_type": "code",
      "metadata": {
        "colab": {
          "base_uri": "https://localhost:8080/"
        },
        "id": "9JkHthHhMBSH",
        "outputId": "700b4fb0-0015-475a-bc57-fb122f76ac65"
      },
      "source": [
        "x[:]"
      ],
      "execution_count": null,
      "outputs": [
        {
          "output_type": "execute_result",
          "data": {
            "text/plain": [
              "array([[12,  2,  3],\n",
              "       [ 2,  6,  8],\n",
              "       [ 4,  6,  7],\n",
              "       [ 4,  3,  7]])"
            ]
          },
          "metadata": {},
          "execution_count": 63
        }
      ]
    },
    {
      "cell_type": "code",
      "metadata": {
        "colab": {
          "base_uri": "https://localhost:8080/"
        },
        "id": "z4-MPHdgMH_M",
        "outputId": "93b2d6e4-f78e-48e9-ac93-2032225961c4"
      },
      "source": [
        "#slicing in both row and columns\n",
        "\n",
        "x[0:2,1:2]"
      ],
      "execution_count": null,
      "outputs": [
        {
          "output_type": "execute_result",
          "data": {
            "text/plain": [
              "array([[2],\n",
              "       [6]])"
            ]
          },
          "metadata": {},
          "execution_count": 64
        }
      ]
    },
    {
      "cell_type": "code",
      "metadata": {
        "colab": {
          "base_uri": "https://localhost:8080/"
        },
        "id": "DN2QllhtMjS6",
        "outputId": "5bea6a7f-e5ef-431f-cb08-dcdd627909c0"
      },
      "source": [
        "x=np.array([1,5,10,23,45])\n",
        "x%5==0\n"
      ],
      "execution_count": null,
      "outputs": [
        {
          "output_type": "execute_result",
          "data": {
            "text/plain": [
              "array([False,  True,  True, False,  True])"
            ]
          },
          "metadata": {},
          "execution_count": 66
        }
      ]
    },
    {
      "cell_type": "code",
      "metadata": {
        "colab": {
          "base_uri": "https://localhost:8080/"
        },
        "id": "xyzji6uMOBsG",
        "outputId": "a6f4d28d-fd3d-4318-9eac-d1016d232d82"
      },
      "source": [
        "x=np.array([[12,2,3],[2,6,8],[4,6,7],[4,3,7]])\n",
        "x[x%2==0]"
      ],
      "execution_count": null,
      "outputs": [
        {
          "output_type": "execute_result",
          "data": {
            "text/plain": [
              "array([12,  2,  2,  6,  8,  4,  6,  4])"
            ]
          },
          "metadata": {},
          "execution_count": 67
        }
      ]
    },
    {
      "cell_type": "markdown",
      "metadata": {
        "id": "gp4dZ5uXPVu1"
      },
      "source": [
        "Fancy Indexing"
      ]
    },
    {
      "cell_type": "code",
      "metadata": {
        "colab": {
          "base_uri": "https://localhost:8080/"
        },
        "id": "iFNiPzp1OO-6",
        "outputId": "5c5b3f9c-6354-4ce4-bada-d277e6701f83"
      },
      "source": [
        "x=np.random.randint(100,size=(10,6))\n",
        "x"
      ],
      "execution_count": null,
      "outputs": [
        {
          "output_type": "execute_result",
          "data": {
            "text/plain": [
              "array([[43, 91, 38, 65, 42,  6],\n",
              "       [96,  4, 65, 33,  2,  2],\n",
              "       [70, 24, 66, 28, 64, 33],\n",
              "       [96, 32, 23, 86, 47,  3],\n",
              "       [42, 86, 80, 39, 72,  5],\n",
              "       [ 7, 41, 47, 86, 40, 76],\n",
              "       [33, 21, 20, 18, 13, 65],\n",
              "       [77, 39, 62, 55,  9, 49],\n",
              "       [91,  2, 86,  6, 28,  8],\n",
              "       [17, 89, 63, 68, 54, 27]])"
            ]
          },
          "metadata": {},
          "execution_count": 69
        }
      ]
    },
    {
      "cell_type": "code",
      "metadata": {
        "colab": {
          "base_uri": "https://localhost:8080/"
        },
        "id": "dMC5GoLhO2IY",
        "outputId": "ba90c59c-8ad9-46bd-e64c-ebfb3c474ede"
      },
      "source": [
        "x[ :,[2,4,5]]"
      ],
      "execution_count": null,
      "outputs": [
        {
          "output_type": "execute_result",
          "data": {
            "text/plain": [
              "array([[38, 42,  6],\n",
              "       [65,  2,  2],\n",
              "       [66, 64, 33],\n",
              "       [23, 47,  3],\n",
              "       [80, 72,  5],\n",
              "       [47, 40, 76],\n",
              "       [20, 13, 65],\n",
              "       [62,  9, 49],\n",
              "       [86, 28,  8],\n",
              "       [63, 54, 27]])"
            ]
          },
          "metadata": {},
          "execution_count": 72
        }
      ]
    },
    {
      "cell_type": "code",
      "metadata": {
        "colab": {
          "base_uri": "https://localhost:8080/"
        },
        "id": "RW7VW2kjP0JT",
        "outputId": "2436ccc2-3e60-46ec-9f07-4fd328c8c019"
      },
      "source": [
        "x[[1,3],:]"
      ],
      "execution_count": null,
      "outputs": [
        {
          "output_type": "execute_result",
          "data": {
            "text/plain": [
              "array([[96,  4, 65, 33,  2,  2],\n",
              "       [96, 32, 23, 86, 47,  3]])"
            ]
          },
          "metadata": {},
          "execution_count": 75
        }
      ]
    },
    {
      "cell_type": "code",
      "metadata": {
        "colab": {
          "base_uri": "https://localhost:8080/"
        },
        "id": "VXEFNNZoQGpY",
        "outputId": "b660681a-356a-462e-a54b-4a8b1274869e"
      },
      "source": [
        "x[2:6,[3]]"
      ],
      "execution_count": null,
      "outputs": [
        {
          "output_type": "execute_result",
          "data": {
            "text/plain": [
              "array([[28],\n",
              "       [86],\n",
              "       [39],\n",
              "       [86]])"
            ]
          },
          "metadata": {},
          "execution_count": 79
        }
      ]
    },
    {
      "cell_type": "code",
      "metadata": {
        "colab": {
          "base_uri": "https://localhost:8080/"
        },
        "id": "cj_deipTQYSM",
        "outputId": "3d6b5072-72fc-4be7-a70a-9616eccd489d"
      },
      "source": [
        "x[2:5][:,3:]"
      ],
      "execution_count": null,
      "outputs": [
        {
          "output_type": "execute_result",
          "data": {
            "text/plain": [
              "array([[28, 64, 33],\n",
              "       [86, 47,  3],\n",
              "       [39, 72,  5]])"
            ]
          },
          "metadata": {},
          "execution_count": 82
        }
      ]
    },
    {
      "cell_type": "markdown",
      "metadata": {
        "id": "1wBvP5CORZte"
      },
      "source": [
        "Reshaping of arrays"
      ]
    },
    {
      "cell_type": "code",
      "metadata": {
        "colab": {
          "base_uri": "https://localhost:8080/"
        },
        "id": "81Ixp6bKRBqK",
        "outputId": "022b3e8c-416c-4478-e063-e4eb0e9a5a0b"
      },
      "source": [
        "x=np.arange(1,10)\n",
        "x.reshape(3,3)"
      ],
      "execution_count": null,
      "outputs": [
        {
          "output_type": "execute_result",
          "data": {
            "text/plain": [
              "array([[1, 2, 3],\n",
              "       [4, 5, 6],\n",
              "       [7, 8, 9]])"
            ]
          },
          "metadata": {},
          "execution_count": 86
        }
      ]
    },
    {
      "cell_type": "code",
      "metadata": {
        "colab": {
          "base_uri": "https://localhost:8080/"
        },
        "id": "rATJyW0LSBLG",
        "outputId": "01f45f98-7b90-432c-edf0-eaa1b7b8f396"
      },
      "source": [
        "x=np.arange(1,10)\n",
        "x.reshape(3,3).base"
      ],
      "execution_count": null,
      "outputs": [
        {
          "output_type": "execute_result",
          "data": {
            "text/plain": [
              "array([1, 2, 3, 4, 5, 6, 7, 8, 9])"
            ]
          },
          "metadata": {},
          "execution_count": 89
        }
      ]
    },
    {
      "cell_type": "code",
      "metadata": {
        "colab": {
          "base_uri": "https://localhost:8080/"
        },
        "id": "b3CuglXzRosR",
        "outputId": "1e95e0d0-edbb-4666-89d4-07b4556f9d1a"
      },
      "source": [
        "x.reshape(-1)"
      ],
      "execution_count": null,
      "outputs": [
        {
          "output_type": "execute_result",
          "data": {
            "text/plain": [
              "array([1, 2, 3, 4, 5, 6, 7, 8, 9])"
            ]
          },
          "metadata": {},
          "execution_count": 87
        }
      ]
    },
    {
      "cell_type": "code",
      "metadata": {
        "colab": {
          "base_uri": "https://localhost:8080/"
        },
        "id": "vnEpZ2KuTkLe",
        "outputId": "14fb70be-ab9a-4c20-9759-c66c9aead49b"
      },
      "source": [
        "\n",
        "m=np.array([[1,2],[2,3],[3,4]])\n",
        "m"
      ],
      "execution_count": null,
      "outputs": [
        {
          "output_type": "execute_result",
          "data": {
            "text/plain": [
              "array([[1, 2],\n",
              "       [2, 3],\n",
              "       [3, 4]])"
            ]
          },
          "metadata": {},
          "execution_count": 15
        }
      ]
    },
    {
      "cell_type": "code",
      "metadata": {
        "colab": {
          "base_uri": "https://localhost:8080/"
        },
        "id": "5KmMwhp6Tqn1",
        "outputId": "e341a858-d6ce-4f11-a396-a48e08b1fccb"
      },
      "source": [
        "np.rot90(m,2)"
      ],
      "execution_count": null,
      "outputs": [
        {
          "output_type": "execute_result",
          "data": {
            "text/plain": [
              "array([[4, 3],\n",
              "       [3, 2],\n",
              "       [2, 1]])"
            ]
          },
          "metadata": {},
          "execution_count": 16
        }
      ]
    },
    {
      "cell_type": "code",
      "metadata": {
        "colab": {
          "base_uri": "https://localhost:8080/"
        },
        "id": "8tk7EHK5TuzV",
        "outputId": "a0a12d7e-240d-42df-f22a-16d02e4bbe6e"
      },
      "source": [
        "x=np.array([[1,2,3],[3,4,5],[3,5,7]])\n",
        "y=np.array([[2,2,2],[3,3,3],[5,5,5]])\n",
        "np.concatenate([x,y],axis=0)\n",
        "#column should be equal"
      ],
      "execution_count": null,
      "outputs": [
        {
          "output_type": "execute_result",
          "data": {
            "text/plain": [
              "array([[1, 2, 3],\n",
              "       [3, 4, 5],\n",
              "       [3, 5, 7],\n",
              "       [2, 2, 2],\n",
              "       [3, 3, 3],\n",
              "       [5, 5, 5]])"
            ]
          },
          "metadata": {},
          "execution_count": 17
        }
      ]
    },
    {
      "cell_type": "code",
      "metadata": {
        "colab": {
          "base_uri": "https://localhost:8080/"
        },
        "id": "yTK_WrneT3uv",
        "outputId": "4d3e4c5f-2e5b-4b40-c41b-662571cc738f"
      },
      "source": [
        "x=np.array([[1,2,3],[3,4,5],[3,5,7]])\n",
        "y=np.array([[2,2,2],[3,3,3],[5,5,5]])\n",
        "np.concatenate([x,y],axis=1)\n",
        "#row should be equal"
      ],
      "execution_count": null,
      "outputs": [
        {
          "output_type": "execute_result",
          "data": {
            "text/plain": [
              "array([[1, 2, 3, 2, 2, 2],\n",
              "       [3, 4, 5, 3, 3, 3],\n",
              "       [3, 5, 7, 5, 5, 5]])"
            ]
          },
          "metadata": {},
          "execution_count": 18
        }
      ]
    },
    {
      "cell_type": "code",
      "metadata": {
        "colab": {
          "base_uri": "https://localhost:8080/"
        },
        "id": "XLCRr-y-T9ph",
        "outputId": "dc25208b-c0f8-419e-a2f1-a830ef4fe583"
      },
      "source": [
        "\n",
        "x=np.array([[1,2,3],[3,4,5],[3,5,7]])\n",
        "y=np.array([[2,2,2],[3,3,3],[5,5,5]])\n",
        "np.vstack([x,y])"
      ],
      "execution_count": null,
      "outputs": [
        {
          "output_type": "execute_result",
          "data": {
            "text/plain": [
              "array([[1, 2, 3],\n",
              "       [3, 4, 5],\n",
              "       [3, 5, 7],\n",
              "       [2, 2, 2],\n",
              "       [3, 3, 3],\n",
              "       [5, 5, 5]])"
            ]
          },
          "metadata": {},
          "execution_count": 19
        }
      ]
    },
    {
      "cell_type": "code",
      "metadata": {
        "colab": {
          "base_uri": "https://localhost:8080/"
        },
        "id": "Jo6k9bsyUGDt",
        "outputId": "3e16d8f9-28a7-42fb-8dd5-da05bdd793ae"
      },
      "source": [
        "x=np.array([[1,2,3],[3,4,5],[3,5,7]])\n",
        "y=np.array([[2,2,2],[3,3,3],[5,5,5]])\n",
        "np.hstack([x,y])"
      ],
      "execution_count": null,
      "outputs": [
        {
          "output_type": "execute_result",
          "data": {
            "text/plain": [
              "array([[1, 2, 3, 2, 2, 2],\n",
              "       [3, 4, 5, 3, 3, 3],\n",
              "       [3, 5, 7, 5, 5, 5]])"
            ]
          },
          "metadata": {},
          "execution_count": 20
        }
      ]
    },
    {
      "cell_type": "code",
      "metadata": {
        "colab": {
          "base_uri": "https://localhost:8080/"
        },
        "id": "Yl5Nq3iDUNVZ",
        "outputId": "11d3f7c3-721b-4f03-8790-b5d9dd2d529c"
      },
      "source": [
        "x= np.arange(1,10)\n",
        "np.split(x,3) #single value passed so in equal parts will be divided\n",
        "#division should be equal"
      ],
      "execution_count": null,
      "outputs": [
        {
          "output_type": "execute_result",
          "data": {
            "text/plain": [
              "[array([1, 2, 3]), array([4, 5, 6]), array([7, 8, 9])]"
            ]
          },
          "metadata": {},
          "execution_count": 21
        }
      ]
    },
    {
      "cell_type": "code",
      "metadata": {
        "colab": {
          "base_uri": "https://localhost:8080/"
        },
        "id": "x9ObkcQKUVVm",
        "outputId": "5bec13e0-534a-49ca-edd9-317cfd048f67"
      },
      "source": [
        "x= np.arange(1,10)\n",
        "np.split(x,[3,5,6])\n",
        "#split [0:3],[3:5],[5:6],[6:]"
      ],
      "execution_count": null,
      "outputs": [
        {
          "output_type": "execute_result",
          "data": {
            "text/plain": [
              "[array([1, 2, 3]), array([4, 5]), array([6]), array([7, 8, 9])]"
            ]
          },
          "metadata": {},
          "execution_count": 22
        }
      ]
    },
    {
      "cell_type": "code",
      "metadata": {
        "colab": {
          "base_uri": "https://localhost:8080/"
        },
        "id": "j_zpVbG1Ubbp",
        "outputId": "e924c159-fd90-4fab-ddf4-33f37eb9eb56"
      },
      "source": [
        "\n",
        "x= np.arange(1,10).reshape([3,3])\n",
        "np.hsplit(x,3)"
      ],
      "execution_count": null,
      "outputs": [
        {
          "output_type": "execute_result",
          "data": {
            "text/plain": [
              "[array([[1],\n",
              "        [4],\n",
              "        [7]]), array([[2],\n",
              "        [5],\n",
              "        [8]]), array([[3],\n",
              "        [6],\n",
              "        [9]])]"
            ]
          },
          "metadata": {},
          "execution_count": 23
        }
      ]
    },
    {
      "cell_type": "code",
      "metadata": {
        "colab": {
          "base_uri": "https://localhost:8080/"
        },
        "id": "aYyDBd6jUgli",
        "outputId": "f0572911-88af-45a3-bfca-03f5934c8dd8"
      },
      "source": [
        "x= np.arange(1,11).reshape([2,5])\n",
        "print(x)\n",
        "np.hsplit(x,[2,5])"
      ],
      "execution_count": null,
      "outputs": [
        {
          "output_type": "stream",
          "name": "stdout",
          "text": [
            "[[ 1  2  3  4  5]\n",
            " [ 6  7  8  9 10]]\n"
          ]
        },
        {
          "output_type": "execute_result",
          "data": {
            "text/plain": [
              "[array([[1, 2],\n",
              "        [6, 7]]), array([[ 3,  4,  5],\n",
              "        [ 8,  9, 10]]), array([], shape=(2, 0), dtype=int64)]"
            ]
          },
          "metadata": {},
          "execution_count": 24
        }
      ]
    },
    {
      "cell_type": "code",
      "metadata": {
        "colab": {
          "base_uri": "https://localhost:8080/"
        },
        "id": "m1hW_WTvUzOA",
        "outputId": "f72b704f-2715-4626-c1a7-c6d1a762046e"
      },
      "source": [
        "x= np.arange(1,11).reshape([5,2])\n",
        "print(x)\n",
        "np.vsplit(x,[3]) #here value is passed in square bracket so splitting will be from [0:3],[3:]"
      ],
      "execution_count": null,
      "outputs": [
        {
          "output_type": "stream",
          "name": "stdout",
          "text": [
            "[[ 1  2]\n",
            " [ 3  4]\n",
            " [ 5  6]\n",
            " [ 7  8]\n",
            " [ 9 10]]\n"
          ]
        },
        {
          "output_type": "execute_result",
          "data": {
            "text/plain": [
              "[array([[1, 2],\n",
              "        [3, 4],\n",
              "        [5, 6]]), array([[ 7,  8],\n",
              "        [ 9, 10]])]"
            ]
          },
          "metadata": {},
          "execution_count": 25
        }
      ]
    },
    {
      "cell_type": "code",
      "metadata": {
        "colab": {
          "base_uri": "https://localhost:8080/"
        },
        "id": "a7UPtDj-U7K-",
        "outputId": "5f7d0060-2388-49b7-a63b-96acadbcc3b4"
      },
      "source": [
        "\n",
        "x=np.array([1,2,3,4])\n",
        "x.dtype"
      ],
      "execution_count": null,
      "outputs": [
        {
          "output_type": "execute_result",
          "data": {
            "text/plain": [
              "dtype('int64')"
            ]
          },
          "metadata": {},
          "execution_count": 26
        }
      ]
    },
    {
      "cell_type": "code",
      "metadata": {
        "colab": {
          "base_uri": "https://localhost:8080/"
        },
        "id": "-q-3SAXJU8o2",
        "outputId": "3e561665-f083-4e9b-a0e1-085ff835b849"
      },
      "source": [
        "x=np.array([99999999999999999999999,1,2,3,4])\n",
        "x.dtype"
      ],
      "execution_count": null,
      "outputs": [
        {
          "output_type": "execute_result",
          "data": {
            "text/plain": [
              "dtype('O')"
            ]
          },
          "metadata": {},
          "execution_count": 27
        }
      ]
    },
    {
      "cell_type": "code",
      "metadata": {
        "colab": {
          "base_uri": "https://localhost:8080/"
        },
        "id": "OEVauddSVBQl",
        "outputId": "5b27c7a6-8031-444a-9734-77efd4fb5060"
      },
      "source": [
        "x=np.array([1,2,3,4])\n",
        "y=x.astype(np.float64)\n",
        "y"
      ],
      "execution_count": null,
      "outputs": [
        {
          "output_type": "execute_result",
          "data": {
            "text/plain": [
              "array([1., 2., 3., 4.])"
            ]
          },
          "metadata": {},
          "execution_count": 28
        }
      ]
    },
    {
      "cell_type": "markdown",
      "metadata": {
        "id": "OX0H5TVrONvC"
      },
      "source": [
        "ABSOLUTE VALUE"
      ]
    },
    {
      "cell_type": "code",
      "metadata": {
        "id": "sAyAdhhjR70j",
        "colab": {
          "base_uri": "https://localhost:8080/"
        },
        "outputId": "b6900d1c-77af-490a-fa6f-4999a8f51808"
      },
      "source": [
        "x=np.array([-1,-2,0,1,2])\n",
        "np.absolute(x)"
      ],
      "execution_count": null,
      "outputs": [
        {
          "output_type": "execute_result",
          "data": {
            "text/plain": [
              "array([1, 2, 0, 1, 2])"
            ]
          },
          "metadata": {},
          "execution_count": 3
        }
      ]
    },
    {
      "cell_type": "markdown",
      "metadata": {
        "id": "josIjq6bOfW6"
      },
      "source": [
        "EXPONENTS AND LOGARITHMS"
      ]
    },
    {
      "cell_type": "code",
      "metadata": {
        "colab": {
          "base_uri": "https://localhost:8080/"
        },
        "id": "2vQGcS9ZOaBt",
        "outputId": "d55bfc19-fd5d-4167-a480-01f141677a11"
      },
      "source": [
        "#x=e^x\n",
        "x=[1,2,3]\n",
        "np.exp(x)\n"
      ],
      "execution_count": null,
      "outputs": [
        {
          "output_type": "execute_result",
          "data": {
            "text/plain": [
              "array([ 2.71828183,  7.3890561 , 20.08553692])"
            ]
          },
          "metadata": {},
          "execution_count": 8
        }
      ]
    },
    {
      "cell_type": "code",
      "metadata": {
        "colab": {
          "base_uri": "https://localhost:8080/"
        },
        "id": "477jZ8F9PAPi",
        "outputId": "3fefc61f-7c8d-4283-cc90-0270bc4ea470"
      },
      "source": [
        "y=[1,2,3]\n",
        "np.exp2(y)"
      ],
      "execution_count": null,
      "outputs": [
        {
          "output_type": "execute_result",
          "data": {
            "text/plain": [
              "array([2., 4., 8.])"
            ]
          },
          "metadata": {},
          "execution_count": 9
        }
      ]
    },
    {
      "cell_type": "code",
      "metadata": {
        "colab": {
          "base_uri": "https://localhost:8080/"
        },
        "id": "sVy9dfgxPRdr",
        "outputId": "45119116-04cd-4b16-f8f1-749956e095de"
      },
      "source": [
        "x=np.arange(5)\n",
        "y=np.empty(5)\n",
        "np.multiply(x,10,out=y)"
      ],
      "execution_count": null,
      "outputs": [
        {
          "output_type": "execute_result",
          "data": {
            "text/plain": [
              "array([ 0., 10., 20., 30., 40.])"
            ]
          },
          "metadata": {},
          "execution_count": 11
        }
      ]
    },
    {
      "cell_type": "markdown",
      "metadata": {
        "id": "WlAZQkFgP9Xm"
      },
      "source": [
        "aggregations"
      ]
    },
    {
      "cell_type": "code",
      "metadata": {
        "colab": {
          "base_uri": "https://localhost:8080/"
        },
        "id": "vFl9LzaPP1WG",
        "outputId": "765f3abd-9210-45fb-e6eb-ad8573ed8553"
      },
      "source": [
        "x=np.arange(1,11)\n",
        "np.add.reduce(x)"
      ],
      "execution_count": null,
      "outputs": [
        {
          "output_type": "execute_result",
          "data": {
            "text/plain": [
              "55"
            ]
          },
          "metadata": {},
          "execution_count": 13
        }
      ]
    },
    {
      "cell_type": "code",
      "metadata": {
        "colab": {
          "base_uri": "https://localhost:8080/"
        },
        "id": "ageU2qvqQEVh",
        "outputId": "b8a38ea9-ec16-4edb-a86f-0f619fb927fa"
      },
      "source": [
        "np.add.accumulate(x)"
      ],
      "execution_count": null,
      "outputs": [
        {
          "output_type": "execute_result",
          "data": {
            "text/plain": [
              "array([ 1,  3,  6, 10, 15, 21, 28, 36, 45, 55])"
            ]
          },
          "metadata": {},
          "execution_count": 14
        }
      ]
    },
    {
      "cell_type": "markdown",
      "metadata": {
        "id": "BDljmVsjQ-VN"
      },
      "source": [
        "functions\n",
        "\n",
        "\n",
        "1.   np.sum\n",
        "2.   np.prod\n",
        "3.   np.cumsum\n",
        "4.   np.cumprod\n",
        "\n"
      ]
    },
    {
      "cell_type": "markdown",
      "metadata": {
        "id": "ufO_wAKDVNA4"
      },
      "source": [
        "functions"
      ]
    },
    {
      "cell_type": "code",
      "metadata": {
        "id": "XhdUFJntQT0_"
      },
      "source": [
        "def myufunc(x):\n",
        "  return x**3"
      ],
      "execution_count": null,
      "outputs": []
    },
    {
      "cell_type": "code",
      "metadata": {
        "colab": {
          "base_uri": "https://localhost:8080/"
        },
        "id": "RT1mmLBhVWUK",
        "outputId": "63eb8bfe-1beb-4498-b3f4-38506aacf53a"
      },
      "source": [
        "x=np.arange(1,11)\n",
        "cube=np.frompyfunc(myufunc,1,1)\n",
        "cube(x)"
      ],
      "execution_count": null,
      "outputs": [
        {
          "output_type": "execute_result",
          "data": {
            "text/plain": [
              "array([1, 8, 27, 64, 125, 216, 343, 512, 729, 1000], dtype=object)"
            ]
          },
          "metadata": {},
          "execution_count": 32
        }
      ]
    },
    {
      "cell_type": "code",
      "metadata": {
        "colab": {
          "base_uri": "https://localhost:8080/"
        },
        "id": "66npvs0XW3xQ",
        "outputId": "fdbed52e-cfc7-4a78-d44a-8d8b42176b03"
      },
      "source": [
        "type(cube)"
      ],
      "execution_count": null,
      "outputs": [
        {
          "output_type": "execute_result",
          "data": {
            "text/plain": [
              "numpy.ufunc"
            ]
          },
          "metadata": {},
          "execution_count": 38
        }
      ]
    },
    {
      "cell_type": "code",
      "metadata": {
        "colab": {
          "base_uri": "https://localhost:8080/"
        },
        "id": "VXffurhUW6eM",
        "outputId": "8d6b37cc-6075-4f00-e408-7cbbd6f5db60"
      },
      "source": [
        "type(myufunc)"
      ],
      "execution_count": null,
      "outputs": [
        {
          "output_type": "execute_result",
          "data": {
            "text/plain": [
              "function"
            ]
          },
          "metadata": {},
          "execution_count": 39
        }
      ]
    },
    {
      "cell_type": "markdown",
      "metadata": {
        "id": "1LweYfzwVnbL"
      },
      "source": [
        "write a universal function which return true if no.is even otherwise false"
      ]
    },
    {
      "cell_type": "code",
      "metadata": {
        "colab": {
          "base_uri": "https://localhost:8080/"
        },
        "id": "CTZrKK6JVmVs",
        "outputId": "73b16a41-f08b-48ad-c376-a6e422a49eb9"
      },
      "source": [
        "def number(n):\n",
        "\n",
        "   if(n%2==0):\n",
        "    return True\n",
        "   else:\n",
        "    return False\n",
        "\n",
        "\n",
        "n=int(input())\n",
        "number(n)\n"
      ],
      "execution_count": null,
      "outputs": [
        {
          "name": "stdout",
          "output_type": "stream",
          "text": [
            "10\n"
          ]
        },
        {
          "output_type": "execute_result",
          "data": {
            "text/plain": [
              "True"
            ]
          },
          "metadata": {},
          "execution_count": 36
        }
      ]
    },
    {
      "cell_type": "code",
      "metadata": {
        "colab": {
          "base_uri": "https://localhost:8080/"
        },
        "id": "v0CqfmH2WQ6w",
        "outputId": "0f7aa59f-d7a4-41c4-82e8-d678d69e2e2c"
      },
      "source": [
        "glo_num=np.frompyfunc(number,1,1)\n",
        "number(n)"
      ],
      "execution_count": null,
      "outputs": [
        {
          "output_type": "execute_result",
          "data": {
            "text/plain": [
              "True"
            ]
          },
          "metadata": {},
          "execution_count": 37
        }
      ]
    },
    {
      "cell_type": "markdown",
      "metadata": {
        "id": "ErvYKUL0XC0b"
      },
      "source": [
        "function with 2 arguments"
      ]
    },
    {
      "cell_type": "code",
      "metadata": {
        "id": "HmcosnzCWvRd"
      },
      "source": [
        "def abc(x,y):\n",
        "  return x*y"
      ],
      "execution_count": null,
      "outputs": []
    },
    {
      "cell_type": "code",
      "metadata": {
        "colab": {
          "base_uri": "https://localhost:8080/"
        },
        "id": "lhYdu_GwXMZR",
        "outputId": "4f87a531-7d28-49fb-8b40-33a48d015f80"
      },
      "source": [
        "glo=np.frompyfunc(abc,2,1)\n",
        "abc(4,2)"
      ],
      "execution_count": null,
      "outputs": [
        {
          "output_type": "execute_result",
          "data": {
            "text/plain": [
              "8"
            ]
          },
          "metadata": {},
          "execution_count": 43
        }
      ]
    },
    {
      "cell_type": "markdown",
      "metadata": {
        "id": "_-YiX_bTXks1"
      },
      "source": [
        "*searching arrays*"
      ]
    },
    {
      "cell_type": "code",
      "metadata": {
        "colab": {
          "base_uri": "https://localhost:8080/"
        },
        "id": "Tw7waNYeXT9k",
        "outputId": "46ceed12-87ac-4586-c3f0-da85eccb066e"
      },
      "source": [
        "x=np.random.randint(1,10,size=10)\n",
        "\n",
        "np.where(x==4)"
      ],
      "execution_count": null,
      "outputs": [
        {
          "output_type": "execute_result",
          "data": {
            "text/plain": [
              "(array([8]),)"
            ]
          },
          "metadata": {},
          "execution_count": 44
        }
      ]
    },
    {
      "cell_type": "code",
      "metadata": {
        "colab": {
          "base_uri": "https://localhost:8080/"
        },
        "id": "gotVhQQJX60D",
        "outputId": "34a0400e-fb5e-4762-c0c8-48eb6516a32f"
      },
      "source": [
        "np.where(x==4)"
      ],
      "execution_count": null,
      "outputs": [
        {
          "output_type": "execute_result",
          "data": {
            "text/plain": [
              "(array([8]),)"
            ]
          },
          "metadata": {},
          "execution_count": 45
        }
      ]
    },
    {
      "cell_type": "markdown",
      "metadata": {
        "id": "3K-69aTaYDXe"
      },
      "source": [
        "sort"
      ]
    },
    {
      "cell_type": "code",
      "metadata": {
        "colab": {
          "base_uri": "https://localhost:8080/"
        },
        "id": "vtD1sNQFX-d0",
        "outputId": "07cf8f28-a145-4b05-a11a-d58ce72a203f"
      },
      "source": [
        "data=np.random.randint(10,100,(10,4))\n",
        "data"
      ],
      "execution_count": null,
      "outputs": [
        {
          "output_type": "execute_result",
          "data": {
            "text/plain": [
              "array([[35, 74, 31, 50],\n",
              "       [89, 42, 50, 70],\n",
              "       [78, 49, 48, 17],\n",
              "       [16, 78, 45, 69],\n",
              "       [46, 79, 96, 58],\n",
              "       [41, 69, 23, 57],\n",
              "       [39, 60, 95, 37],\n",
              "       [18, 36, 20, 73],\n",
              "       [56, 83, 60, 31],\n",
              "       [11, 48, 94, 76]])"
            ]
          },
          "metadata": {},
          "execution_count": 47
        }
      ]
    },
    {
      "cell_type": "code",
      "metadata": {
        "colab": {
          "base_uri": "https://localhost:8080/"
        },
        "id": "FpQuttdDYOU2",
        "outputId": "9eba4a0b-0389-4a69-a304-a35638168361"
      },
      "source": [
        "np.sort(data,axis=0)"
      ],
      "execution_count": null,
      "outputs": [
        {
          "output_type": "execute_result",
          "data": {
            "text/plain": [
              "array([[11, 36, 20, 17],\n",
              "       [16, 42, 23, 31],\n",
              "       [18, 48, 31, 37],\n",
              "       [35, 49, 45, 50],\n",
              "       [39, 60, 48, 57],\n",
              "       [41, 69, 50, 58],\n",
              "       [46, 74, 60, 69],\n",
              "       [56, 78, 94, 70],\n",
              "       [78, 79, 95, 73],\n",
              "       [89, 83, 96, 76]])"
            ]
          },
          "metadata": {},
          "execution_count": 48
        }
      ]
    },
    {
      "cell_type": "code",
      "metadata": {
        "colab": {
          "base_uri": "https://localhost:8080/"
        },
        "id": "o0nVeT0yYfnB",
        "outputId": "916990e2-68db-4a85-8708-fe4212fee7f9"
      },
      "source": [
        "np.sort(data,axis=1)"
      ],
      "execution_count": null,
      "outputs": [
        {
          "output_type": "execute_result",
          "data": {
            "text/plain": [
              "array([[31, 35, 50, 74],\n",
              "       [42, 50, 70, 89],\n",
              "       [17, 48, 49, 78],\n",
              "       [16, 45, 69, 78],\n",
              "       [46, 58, 79, 96],\n",
              "       [23, 41, 57, 69],\n",
              "       [37, 39, 60, 95],\n",
              "       [18, 20, 36, 73],\n",
              "       [31, 56, 60, 83],\n",
              "       [11, 48, 76, 94]])"
            ]
          },
          "metadata": {},
          "execution_count": 49
        }
      ]
    },
    {
      "cell_type": "code",
      "metadata": {
        "colab": {
          "base_uri": "https://localhost:8080/"
        },
        "id": "9FyMhP40Yl9m",
        "outputId": "909a3732-044e-41ac-9ab1-62746a64e291"
      },
      "source": [
        "np.sort(data[:,[1]],axis=0)"
      ],
      "execution_count": null,
      "outputs": [
        {
          "output_type": "execute_result",
          "data": {
            "text/plain": [
              "array([[36],\n",
              "       [42],\n",
              "       [48],\n",
              "       [49],\n",
              "       [60],\n",
              "       [69],\n",
              "       [74],\n",
              "       [78],\n",
              "       [79],\n",
              "       [83]])"
            ]
          },
          "metadata": {},
          "execution_count": 50
        }
      ]
    },
    {
      "cell_type": "markdown",
      "metadata": {
        "id": "qZVXSQVrZQG3"
      },
      "source": [
        "filtering"
      ]
    },
    {
      "cell_type": "code",
      "metadata": {
        "colab": {
          "base_uri": "https://localhost:8080/"
        },
        "id": "tjEYT7hgZL4W",
        "outputId": "c58dab5a-c337-497f-9a5a-1e03ebe9cbd2"
      },
      "source": [
        "x=np.array([1,2,3,4,5])\n",
        "f=[True,False,True,False,True]\n",
        "x[f]\n",
        "#square brackets:condition to filter"
      ],
      "execution_count": null,
      "outputs": [
        {
          "output_type": "execute_result",
          "data": {
            "text/plain": [
              "array([1, 3, 5])"
            ]
          },
          "metadata": {},
          "execution_count": 55
        }
      ]
    },
    {
      "cell_type": "code",
      "metadata": {
        "id": "kGOfTdYmZeWx"
      },
      "source": [
        ""
      ],
      "execution_count": null,
      "outputs": []
    }
  ]
}