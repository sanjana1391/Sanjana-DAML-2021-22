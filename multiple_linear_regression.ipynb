{
  "nbformat": 4,
  "nbformat_minor": 0,
  "metadata": {
    "colab": {
      "name": "multiple linear regression.ipynb",
      "provenance": [],
      "authorship_tag": "ABX9TyM3WNg3RNM2QSVpwFiztve1",
      "include_colab_link": true
    },
    "kernelspec": {
      "name": "python3",
      "display_name": "Python 3"
    },
    "language_info": {
      "name": "python"
    }
  },
  "cells": [
    {
      "cell_type": "markdown",
      "metadata": {
        "id": "view-in-github",
        "colab_type": "text"
      },
      "source": [
        "<a href=\"https://colab.research.google.com/github/sanjana1391/Sanjana-DAML-2021-22/blob/main/multiple_linear_regression.ipynb\" target=\"_parent\"><img src=\"https://colab.research.google.com/assets/colab-badge.svg\" alt=\"Open In Colab\"/></a>"
      ]
    },
    {
      "cell_type": "code",
      "execution_count": 1,
      "metadata": {
        "id": "6j4CyY92NqFh"
      },
      "outputs": [],
      "source": [
        "import numpy as np\n",
        "import matplotlib.pyplot as plt\n",
        "import pandas as pd"
      ]
    },
    {
      "cell_type": "code",
      "source": [
        "df=pd.read_csv(\"/content/Org_profit.csv\")"
      ],
      "metadata": {
        "id": "tmRfIZQlNznq"
      },
      "execution_count": 2,
      "outputs": []
    },
    {
      "cell_type": "code",
      "source": [
        "df.head()"
      ],
      "metadata": {
        "colab": {
          "base_uri": "https://localhost:8080/",
          "height": 206
        },
        "id": "YnFWu-uYODw3",
        "outputId": "fc050d3f-5f87-40bb-a624-a7f794bd929f"
      },
      "execution_count": 3,
      "outputs": [
        {
          "output_type": "execute_result",
          "data": {
            "text/plain": [
              "   R&D Spend  Administration  Marketing Spend       State     Profit\n",
              "0  165349.20       136897.80        471784.10    New York  192261.83\n",
              "1  162597.70       151377.59        443898.53  California  191792.06\n",
              "2  153441.51       101145.55        407934.54     Florida  191050.39\n",
              "3  144372.41       118671.85        383199.62    New York  182901.99\n",
              "4  142107.34        91391.77        366168.42     Florida  166187.94"
            ],
            "text/html": [
              "\n",
              "  <div id=\"df-3afb57f1-0e96-445d-8da4-ac46c7c02c9d\">\n",
              "    <div class=\"colab-df-container\">\n",
              "      <div>\n",
              "<style scoped>\n",
              "    .dataframe tbody tr th:only-of-type {\n",
              "        vertical-align: middle;\n",
              "    }\n",
              "\n",
              "    .dataframe tbody tr th {\n",
              "        vertical-align: top;\n",
              "    }\n",
              "\n",
              "    .dataframe thead th {\n",
              "        text-align: right;\n",
              "    }\n",
              "</style>\n",
              "<table border=\"1\" class=\"dataframe\">\n",
              "  <thead>\n",
              "    <tr style=\"text-align: right;\">\n",
              "      <th></th>\n",
              "      <th>R&amp;D Spend</th>\n",
              "      <th>Administration</th>\n",
              "      <th>Marketing Spend</th>\n",
              "      <th>State</th>\n",
              "      <th>Profit</th>\n",
              "    </tr>\n",
              "  </thead>\n",
              "  <tbody>\n",
              "    <tr>\n",
              "      <th>0</th>\n",
              "      <td>165349.20</td>\n",
              "      <td>136897.80</td>\n",
              "      <td>471784.10</td>\n",
              "      <td>New York</td>\n",
              "      <td>192261.83</td>\n",
              "    </tr>\n",
              "    <tr>\n",
              "      <th>1</th>\n",
              "      <td>162597.70</td>\n",
              "      <td>151377.59</td>\n",
              "      <td>443898.53</td>\n",
              "      <td>California</td>\n",
              "      <td>191792.06</td>\n",
              "    </tr>\n",
              "    <tr>\n",
              "      <th>2</th>\n",
              "      <td>153441.51</td>\n",
              "      <td>101145.55</td>\n",
              "      <td>407934.54</td>\n",
              "      <td>Florida</td>\n",
              "      <td>191050.39</td>\n",
              "    </tr>\n",
              "    <tr>\n",
              "      <th>3</th>\n",
              "      <td>144372.41</td>\n",
              "      <td>118671.85</td>\n",
              "      <td>383199.62</td>\n",
              "      <td>New York</td>\n",
              "      <td>182901.99</td>\n",
              "    </tr>\n",
              "    <tr>\n",
              "      <th>4</th>\n",
              "      <td>142107.34</td>\n",
              "      <td>91391.77</td>\n",
              "      <td>366168.42</td>\n",
              "      <td>Florida</td>\n",
              "      <td>166187.94</td>\n",
              "    </tr>\n",
              "  </tbody>\n",
              "</table>\n",
              "</div>\n",
              "      <button class=\"colab-df-convert\" onclick=\"convertToInteractive('df-3afb57f1-0e96-445d-8da4-ac46c7c02c9d')\"\n",
              "              title=\"Convert this dataframe to an interactive table.\"\n",
              "              style=\"display:none;\">\n",
              "        \n",
              "  <svg xmlns=\"http://www.w3.org/2000/svg\" height=\"24px\"viewBox=\"0 0 24 24\"\n",
              "       width=\"24px\">\n",
              "    <path d=\"M0 0h24v24H0V0z\" fill=\"none\"/>\n",
              "    <path d=\"M18.56 5.44l.94 2.06.94-2.06 2.06-.94-2.06-.94-.94-2.06-.94 2.06-2.06.94zm-11 1L8.5 8.5l.94-2.06 2.06-.94-2.06-.94L8.5 2.5l-.94 2.06-2.06.94zm10 10l.94 2.06.94-2.06 2.06-.94-2.06-.94-.94-2.06-.94 2.06-2.06.94z\"/><path d=\"M17.41 7.96l-1.37-1.37c-.4-.4-.92-.59-1.43-.59-.52 0-1.04.2-1.43.59L10.3 9.45l-7.72 7.72c-.78.78-.78 2.05 0 2.83L4 21.41c.39.39.9.59 1.41.59.51 0 1.02-.2 1.41-.59l7.78-7.78 2.81-2.81c.8-.78.8-2.07 0-2.86zM5.41 20L4 18.59l7.72-7.72 1.47 1.35L5.41 20z\"/>\n",
              "  </svg>\n",
              "      </button>\n",
              "      \n",
              "  <style>\n",
              "    .colab-df-container {\n",
              "      display:flex;\n",
              "      flex-wrap:wrap;\n",
              "      gap: 12px;\n",
              "    }\n",
              "\n",
              "    .colab-df-convert {\n",
              "      background-color: #E8F0FE;\n",
              "      border: none;\n",
              "      border-radius: 50%;\n",
              "      cursor: pointer;\n",
              "      display: none;\n",
              "      fill: #1967D2;\n",
              "      height: 32px;\n",
              "      padding: 0 0 0 0;\n",
              "      width: 32px;\n",
              "    }\n",
              "\n",
              "    .colab-df-convert:hover {\n",
              "      background-color: #E2EBFA;\n",
              "      box-shadow: 0px 1px 2px rgba(60, 64, 67, 0.3), 0px 1px 3px 1px rgba(60, 64, 67, 0.15);\n",
              "      fill: #174EA6;\n",
              "    }\n",
              "\n",
              "    [theme=dark] .colab-df-convert {\n",
              "      background-color: #3B4455;\n",
              "      fill: #D2E3FC;\n",
              "    }\n",
              "\n",
              "    [theme=dark] .colab-df-convert:hover {\n",
              "      background-color: #434B5C;\n",
              "      box-shadow: 0px 1px 3px 1px rgba(0, 0, 0, 0.15);\n",
              "      filter: drop-shadow(0px 1px 2px rgba(0, 0, 0, 0.3));\n",
              "      fill: #FFFFFF;\n",
              "    }\n",
              "  </style>\n",
              "\n",
              "      <script>\n",
              "        const buttonEl =\n",
              "          document.querySelector('#df-3afb57f1-0e96-445d-8da4-ac46c7c02c9d button.colab-df-convert');\n",
              "        buttonEl.style.display =\n",
              "          google.colab.kernel.accessAllowed ? 'block' : 'none';\n",
              "\n",
              "        async function convertToInteractive(key) {\n",
              "          const element = document.querySelector('#df-3afb57f1-0e96-445d-8da4-ac46c7c02c9d');\n",
              "          const dataTable =\n",
              "            await google.colab.kernel.invokeFunction('convertToInteractive',\n",
              "                                                     [key], {});\n",
              "          if (!dataTable) return;\n",
              "\n",
              "          const docLinkHtml = 'Like what you see? Visit the ' +\n",
              "            '<a target=\"_blank\" href=https://colab.research.google.com/notebooks/data_table.ipynb>data table notebook</a>'\n",
              "            + ' to learn more about interactive tables.';\n",
              "          element.innerHTML = '';\n",
              "          dataTable['output_type'] = 'display_data';\n",
              "          await google.colab.output.renderOutput(dataTable, element);\n",
              "          const docLink = document.createElement('div');\n",
              "          docLink.innerHTML = docLinkHtml;\n",
              "          element.appendChild(docLink);\n",
              "        }\n",
              "      </script>\n",
              "    </div>\n",
              "  </div>\n",
              "  "
            ]
          },
          "metadata": {},
          "execution_count": 3
        }
      ]
    },
    {
      "cell_type": "code",
      "source": [
        "df.info()"
      ],
      "metadata": {
        "colab": {
          "base_uri": "https://localhost:8080/"
        },
        "id": "88vx8oqwOHwP",
        "outputId": "c19b025a-f6a8-4566-9d6b-32cf9478ddad"
      },
      "execution_count": 4,
      "outputs": [
        {
          "output_type": "stream",
          "name": "stdout",
          "text": [
            "<class 'pandas.core.frame.DataFrame'>\n",
            "RangeIndex: 1000 entries, 0 to 999\n",
            "Data columns (total 5 columns):\n",
            " #   Column           Non-Null Count  Dtype  \n",
            "---  ------           --------------  -----  \n",
            " 0   R&D Spend        1000 non-null   float64\n",
            " 1   Administration   1000 non-null   float64\n",
            " 2   Marketing Spend  1000 non-null   float64\n",
            " 3   State            1000 non-null   object \n",
            " 4   Profit           1000 non-null   float64\n",
            "dtypes: float64(4), object(1)\n",
            "memory usage: 39.2+ KB\n"
          ]
        }
      ]
    },
    {
      "cell_type": "code",
      "source": [
        "x=df.iloc[:,:-2].values\n",
        "y=df.iloc[:,-1].values\n",
        "print(x)"
      ],
      "metadata": {
        "colab": {
          "base_uri": "https://localhost:8080/"
        },
        "id": "AvLSLhL4OWBv",
        "outputId": "c9a7e8c7-6b5f-4d33-c7ff-c00973210e67"
      },
      "execution_count": 5,
      "outputs": [
        {
          "output_type": "stream",
          "name": "stdout",
          "text": [
            "[[165349.2  136897.8  471784.1 ]\n",
            " [162597.7  151377.59 443898.53]\n",
            " [153441.51 101145.55 407934.54]\n",
            " ...\n",
            " [100275.47 241926.31 227142.82]\n",
            " [128456.23 321652.14 281692.32]\n",
            " [161181.72 270939.86 295442.17]]\n"
          ]
        }
      ]
    },
    {
      "cell_type": "code",
      "source": [
        "x=df[[\"R&D Spend\",\t\"Administration\",\t\"Marketing Spend\"]]\n",
        "y=df.iloc[:,-1].values\n",
        "print(x)"
      ],
      "metadata": {
        "colab": {
          "base_uri": "https://localhost:8080/"
        },
        "id": "-VJf_vOaO0ef",
        "outputId": "cce58024-76d9-432a-d2a0-6e3385860fc2"
      },
      "execution_count": 6,
      "outputs": [
        {
          "output_type": "stream",
          "name": "stdout",
          "text": [
            "     R&D Spend  Administration  Marketing Spend\n",
            "0    165349.20      136897.800      471784.1000\n",
            "1    162597.70      151377.590      443898.5300\n",
            "2    153441.51      101145.550      407934.5400\n",
            "3    144372.41      118671.850      383199.6200\n",
            "4    142107.34       91391.770      366168.4200\n",
            "..         ...             ...              ...\n",
            "995   54135.00      118451.999      173232.6695\n",
            "996  134970.00      130390.080      329204.0228\n",
            "997  100275.47      241926.310      227142.8200\n",
            "998  128456.23      321652.140      281692.3200\n",
            "999  161181.72      270939.860      295442.1700\n",
            "\n",
            "[1000 rows x 3 columns]\n"
          ]
        }
      ]
    },
    {
      "cell_type": "code",
      "source": [
        "from sklearn.model_selection import train_test_split\n",
        "x_train,x_test,y_train,y_test=train_test_split(x,y,test_size=0.2,random_state=0)"
      ],
      "metadata": {
        "id": "Nc2DAa6GQnDq"
      },
      "execution_count": 7,
      "outputs": []
    },
    {
      "cell_type": "code",
      "source": [
        "from sklearn.linear_model import LinearRegression\n",
        "regressor=LinearRegression()\n",
        "regressor.fit(x_train,y_train)"
      ],
      "metadata": {
        "colab": {
          "base_uri": "https://localhost:8080/"
        },
        "id": "JfkJd8lCRU2B",
        "outputId": "a6497b24-7846-40f2-8d68-69a034ed2387"
      },
      "execution_count": 8,
      "outputs": [
        {
          "output_type": "execute_result",
          "data": {
            "text/plain": [
              "LinearRegression()"
            ]
          },
          "metadata": {},
          "execution_count": 8
        }
      ]
    },
    {
      "cell_type": "code",
      "source": [
        "print(regressor.intercept_,regressor.coef_)"
      ],
      "metadata": {
        "colab": {
          "base_uri": "https://localhost:8080/"
        },
        "id": "uI0mdjUmR8KK",
        "outputId": "1b63aab2-2d74-4479-fcd3-61db71ccbbaf"
      },
      "execution_count": 9,
      "outputs": [
        {
          "output_type": "stream",
          "name": "stdout",
          "text": [
            "-51639.78825350059 [0.52737847 0.8458277  0.10664082]\n"
          ]
        }
      ]
    },
    {
      "cell_type": "code",
      "source": [
        "y_pred=regressor.predict(x_test)\n",
        "print(y_pred)"
      ],
      "metadata": {
        "colab": {
          "base_uri": "https://localhost:8080/"
        },
        "id": "H5ev207qSGn1",
        "outputId": "a90724fa-1846-4327-bb31-6b7d40c40f33"
      },
      "execution_count": 10,
      "outputs": [
        {
          "output_type": "stream",
          "name": "stdout",
          "text": [
            "[ 89277.93054003  87914.47646729  94381.65899976 176043.03107892\n",
            "  83597.58708608 110755.97826629 132203.39808538  90960.58209961\n",
            " 164777.58862235  53593.01784897  66439.00295311 150930.24999022\n",
            " 126400.09021075  58827.17115615 176995.47531643  75502.66876761\n",
            " 118614.07271066 164056.81999329 171382.58712591 182248.50594104\n",
            " 119169.40047641  85157.5364504  181354.4095907   83632.76748754\n",
            " 104492.155517   100720.13283149  54102.82823857  57069.0105291\n",
            "  68385.07833508 209487.80143381 121144.48546932 111210.74895612\n",
            " 101672.57715358 138323.66305576  63458.96777026 108343.97745534\n",
            " 186193.85616801 171805.08295377 175006.49706597 118037.4577271\n",
            "  96916.36211187 164934.61324361 107210.48293426  50564.93145379\n",
            " 116879.93764961  58121.84755216 158779.76381228  78910.0167059\n",
            " 160090.87630219 131502.96069503 185242.27000119 174971.3167491\n",
            "  93232.71947067  78527.32288643 180925.38061998  84829.75831993\n",
            " 143265.21863925 170798.5810873   84550.88947886 105491.79298712\n",
            " 142024.46685701  52715.22459865 141326.86572433 139358.48092734\n",
            "  97781.28446034 113953.10210961 126937.2344394  152316.87154868\n",
            "  59051.98237038 174647.82889815 124109.07562284 168547.89516648\n",
            "  91647.02848248 156351.45989065  83794.94044835  78063.97165886\n",
            " 120779.81088059  93565.64593004 138504.71323342 143088.45863521\n",
            " 171510.76909404 139566.98895483 106554.06862394 155124.43708094\n",
            " 140212.248526   110356.98135746  69161.62073448  88334.06684026\n",
            " 139617.61438562 148660.68675731 158097.60778286  58022.3128405\n",
            "  93892.56598982 113012.67060801  56743.80653251 107599.18317463\n",
            " 147716.82305753 152325.452171   167988.44134297 118235.66916006\n",
            " 121129.04043998 139394.5193149  157708.90755314 122327.74733984\n",
            "  87276.93945841 105159.7245032   95520.30184974 178569.15356871\n",
            " 181423.91223834 110015.47426511 164736.40188457 167288.26607214\n",
            " 158183.41353052 174962.73612678 169678.81546483  51791.9542635\n",
            " 176419.71848815 104238.17031369  82198.09462578 139072.74760533\n",
            " 144638.96930653 162042.10003438 170024.61282605 120816.7073495\n",
            " 159243.97309988 109699.70896579 169854.71730294  60249.83118995\n",
            " 158519.77227265 157652.27571211 174691.58983734 156475.87832252\n",
            " 103200.77831463  85821.67323842 141087.46756425 166098.13981593\n",
            " 121547.77274226 170953.0466192  100872.86718388  82465.80871704\n",
            " 178124.67955799 101277.01244293  70694.11215373  90435.45070211\n",
            "  61434.80919865  69098.9824832   73144.72557497 176395.69283649\n",
            "  90072.49217018 128705.84414107  93040.51453254  88585.67389869\n",
            " 172318.20162603  60382.83016276 169378.49518418 165932.53456169\n",
            " 165788.38084228 102537.49951271 181773.99987908  74071.4281147\n",
            "  90754.6481996  135275.84136665  65109.8712218   71962.3217858\n",
            "  60791.26577526 184650.20998829 176648.81996911 159088.66463066\n",
            " 141541.38025731 154792.36869226  58737.07505717  90986.32389264\n",
            " 153066.81416894 168760.69346284  72671.93565439 116430.31530999\n",
            "  80456.23709768 150010.41185751 116990.62711961 129676.15531013\n",
            " 174896.66567732 294038.61507917 145754.44457554 150828.14106862\n",
            "  86475.51334733  70336.30197202  70465.86874345  68522.36757356\n",
            " 120850.17160958  89863.12606133 167187.01530581 124999.73969042\n",
            "  67396.59561476 141031.13026096 118029.73526005 165379.94531436\n",
            " 169018.11087499 146493.232446   141578.27671557 109270.6799844 ]\n"
          ]
        }
      ]
    },
    {
      "cell_type": "code",
      "source": [
        "yy=y_test-y_pred\n",
        "yy"
      ],
      "metadata": {
        "colab": {
          "base_uri": "https://localhost:8080/"
        },
        "id": "6jrymdKYTZus",
        "outputId": "e9ed22ca-2e04-4013-db50-cd2abcf68af8"
      },
      "execution_count": 11,
      "outputs": [
        {
          "output_type": "execute_result",
          "data": {
            "text/plain": [
              "array([-2.65903820e+02, -2.59918737e+02, -2.88307210e+02, -6.46769479e+02,\n",
              "       -2.40969246e+02, -3.60184266e+02, -2.71950881e+04, -2.73290000e+02,\n",
              "       -5.97318422e+02, -1.09260669e+02, -1.65649653e+02, -5.36533990e+02,\n",
              "       -4.28855911e+02, -1.32236606e+02, -6.50950316e+02, -2.05435718e+02,\n",
              "       -3.94678311e+02, -5.94154593e+02, -3.87799371e+04, -6.74009141e+02,\n",
              "       -2.16858405e+04, -2.47816890e+02, -6.70084391e+02, -2.41123698e+02,\n",
              "       -3.32688517e+02, -3.16130731e+02,  1.08232518e+04, -1.24518999e+02,\n",
              "       -1.74192205e+02, -1.76957414e+04, -4.05785769e+02, -3.62180456e+02,\n",
              "       -3.20311554e+02, -4.81195856e+02, -1.52568400e+02, -3.49596455e+02,\n",
              "       -6.91327668e+02, -6.28166454e+02, -6.42219466e+02, -3.92147127e+02,\n",
              "       -2.99433612e+02, -5.98007744e+02, -3.44620834e+02, -9.59685138e+01,\n",
              "       -3.87066150e+02, -1.29140512e+02, -5.70990312e+02, -2.20392626e+02,\n",
              "       -5.76745602e+02, -4.51255595e+02, -6.87150601e+02, -6.42065149e+02,\n",
              "       -2.83263821e+02, -2.18712756e+02, -6.68201120e+02, -2.46378070e+02,\n",
              "       -5.02887439e+02, -6.23748387e+02, -2.45153919e+02, -3.37076487e+02,\n",
              "       -4.97440957e+02, -1.05407489e+02, -4.94378724e+02, -4.85738327e+02,\n",
              "       -3.03230260e+02, -3.74218410e+02, -4.31213739e+02, -5.42620649e+02,\n",
              "       -1.33223480e+02, -6.40645098e+02, -4.18799323e+02, -6.13868766e+02,\n",
              "       -2.76303292e+02, -5.60330991e+02, -2.41835588e+02, -2.16678869e+02,\n",
              "       -4.04185081e+02, -2.84725230e+02, -4.81990533e+02, -5.02111435e+02,\n",
              "       -6.26874594e+02, -4.86653555e+02, -3.41739424e+02, -5.54944881e+02,\n",
              "       -4.89486026e+02, -3.58432857e+02, -1.77600914e+02, -2.61760630e+02,\n",
              "       -4.86875786e+02, -5.26571457e+02, -5.67995983e+02, -1.28703600e+02,\n",
              "       -2.86160280e+02, -3.70090308e+02, -1.23091433e+02, -3.46327075e+02,\n",
              "       -5.22428258e+02, -5.42658371e+02, -6.11412843e+02, -3.93017260e+02,\n",
              "       -4.05718040e+02, -4.85896515e+02, -5.66289753e+02, -4.10979840e+02,\n",
              "       -2.57120218e+02, -3.35618803e+02, -2.93305410e+02, -6.57858169e+02,\n",
              "       -6.70389438e+02, -3.56933665e+02, -5.97137685e+02, -6.08339372e+02,\n",
              "       -5.68372531e+02, -6.42027427e+02, -6.18832965e+02, -1.01354664e+02,\n",
              "       -6.48422988e+02, -3.31573514e+02, -2.34826006e+02, -4.84484005e+02,\n",
              "       -5.08917607e+02, -5.85310734e+02, -6.20350926e+02, -4.04347050e+02,\n",
              "       -5.73028000e+02, -3.55547666e+02, -6.19605103e+02, -1.38481550e+02,\n",
              "       -5.69849073e+02, -5.66041112e+02, -6.40837137e+02, -5.60877223e+02,\n",
              "       -3.27019815e+02, -2.50732158e+02, -4.93327864e+02, -6.03115216e+02,\n",
              "       -4.07556142e+02, -1.87412766e+04, -3.16801184e+02, -2.36001197e+02,\n",
              "       -6.55907158e+02, -3.18575243e+02, -1.84327944e+02, -2.70984922e+02,\n",
              "       -1.43683179e+02, -1.77325933e+02, -1.95085215e+02, -6.48317536e+02,\n",
              "       -2.69391640e+02, -3.19930441e+04, -2.82420153e+02,  1.13519161e+04,\n",
              "       -6.30418926e+02, -1.39065363e+02, -6.17514684e+02, -6.02388262e+02,\n",
              "       -6.01755442e+02, -3.24108213e+02, -6.71926279e+02, -1.99153075e+02,\n",
              "       -2.72386030e+02, -4.67817167e+02, -1.59815262e+02, -1.89894936e+02,\n",
              "       -1.40858285e+02, -6.84551688e+02, -6.49428669e+02, -5.72346231e+02,\n",
              "       -4.95320457e+02, -5.53487192e+02, -1.31841107e+02, -2.73403053e+02,\n",
              "       -5.45912669e+02, -6.14802763e+02, -1.93009834e+02, -3.85092410e+02,\n",
              "       -2.27179968e+02, -5.32496158e+02, -3.87552020e+02, -4.43236510e+02,\n",
              "       -6.41737377e+02,  1.82446815e+05, -5.13814076e+02, -5.36085769e+02,\n",
              "       -2.53602247e+02, -1.82757272e+02, -1.83326043e+02, -1.74794824e+02,\n",
              "       -4.04493910e+02, -2.68472631e+02, -6.07895006e+02, -4.22708890e+02,\n",
              "       -1.69853145e+02,  1.59599897e+04, -3.92113260e+02, -5.99962614e+02,\n",
              "       -6.15932775e+02, -5.17057146e+02, -4.95482316e+02, -3.53664284e+02])"
            ]
          },
          "metadata": {},
          "execution_count": 11
        }
      ]
    },
    {
      "cell_type": "code",
      "source": [
        "from sklearn.metrics import mean_squared_error,r2_score\n",
        "rmse=(np.sqrt(mean_squared_error(y_test,y_pred)))\n",
        "r2_score=r2_score(y_test,y_pred)\n",
        "print(regressor.score(x_test,y_test))\n"
      ],
      "metadata": {
        "colab": {
          "base_uri": "https://localhost:8080/"
        },
        "id": "LgTCuc7cU_vX",
        "outputId": "09d116d0-f5a5-4ef6-a3e0-8efd8d1b1f89"
      },
      "execution_count": 18,
      "outputs": [
        {
          "output_type": "stream",
          "name": "stdout",
          "text": [
            "0.9117375294964101\n"
          ]
        }
      ]
    },
    {
      "cell_type": "code",
      "source": [
        "print(rmse,r2_score)"
      ],
      "metadata": {
        "colab": {
          "base_uri": "https://localhost:8080/"
        },
        "id": "yRLNjViBXti0",
        "outputId": "93486109-c30a-4bab-aee1-1a57be391a83"
      },
      "execution_count": 21,
      "outputs": [
        {
          "output_type": "stream",
          "name": "stdout",
          "text": [
            "13825.148271527594 0.9117375294964101\n"
          ]
        }
      ]
    },
    {
      "cell_type": "code",
      "source": [
        "regressor.score(x_train,y_train)"
      ],
      "metadata": {
        "colab": {
          "base_uri": "https://localhost:8080/"
        },
        "id": "3vkKXCLwWAID",
        "outputId": "c478209f-8fd4-418e-f9de-ef88021548fe"
      },
      "execution_count": 20,
      "outputs": [
        {
          "output_type": "execute_result",
          "data": {
            "text/plain": [
              "0.958466128482265"
            ]
          },
          "metadata": {},
          "execution_count": 20
        }
      ]
    },
    {
      "cell_type": "code",
      "source": [
        "import seaborn as sns\n",
        "sns.set(style=\"ticks\",palette=\"Set2\")\n",
        "sns.pairplot(df)\n"
      ],
      "metadata": {
        "colab": {
          "base_uri": "https://localhost:8080/",
          "height": 741
        },
        "id": "SGBWpwpOWpVG",
        "outputId": "853a1ea4-b031-47a8-c0e4-34412f155cf7"
      },
      "execution_count": 23,
      "outputs": [
        {
          "output_type": "execute_result",
          "data": {
            "text/plain": [
              "<seaborn.axisgrid.PairGrid at 0x7f10265f9490>"
            ]
          },
          "metadata": {},
          "execution_count": 23
        },
        {
          "output_type": "display_data",
          "data": {
            "text/plain": [
              "<Figure size 720x720 with 20 Axes>"
            ],
            "image/png": "[encoded data removed]"
          },
          "metadata": {}
        }
      ]
    },
    {
      "cell_type": "code",
      "source": [
        ""
      ],
      "metadata": {
        "id": "iU9rxdPRX166"
      },
      "execution_count": null,
      "outputs": []
    }
  ]
}